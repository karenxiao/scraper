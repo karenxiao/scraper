{
 "cells": [
  {
   "cell_type": "markdown",
   "metadata": {},
   "source": [
    "# Scott's Awesome Korean Web Scraper"
   ]
  },
  {
   "cell_type": "markdown",
   "metadata": {},
   "source": [
    "Tutorial link: https://medium.freecodecamp.org/how-to-scrape-websites-with-python-and-beautifulsoup-5946935d93fe"
   ]
  },
  {
   "cell_type": "code",
   "execution_count": 12,
   "metadata": {
    "collapsed": false
   },
   "outputs": [],
   "source": [
    "# Import libraries\n",
    "import urllib\n",
    "import urllib2\n",
    "\n",
    "import csv\n",
    "from bs4 import BeautifulSoup"
   ]
  },
  {
   "cell_type": "code",
   "execution_count": 40,
   "metadata": {
    "collapsed": false
   },
   "outputs": [],
   "source": [
    "url = 'http://stock.thinkpool.com/bbs/itemanal/list/stock_bbs.do?code=068270&Gcode=001_008_002'\n",
    "page = urllib2.urlopen(url).read()"
   ]
  },
  {
   "cell_type": "code",
   "execution_count": 41,
   "metadata": {
    "collapsed": false
   },
   "outputs": [],
   "source": [
    "soup = BeautifulSoup(page, 'html.parser')"
   ]
  },
  {
   "cell_type": "code",
   "execution_count": 42,
   "metadata": {
    "collapsed": false
   },
   "outputs": [],
   "source": [
    "table = soup.find('table', attrs={'summary': '게시판 목록을 보여줌'})"
   ]
  },
  {
   "cell_type": "code",
   "execution_count": 43,
   "metadata": {
    "collapsed": false
   },
   "outputs": [],
   "source": [
    "rows = table.find_all('tr')"
   ]
  },
  {
   "cell_type": "code",
   "execution_count": 48,
   "metadata": {
    "collapsed": false
   },
   "outputs": [
    {
     "name": "stdout",
     "output_type": "stream",
     "text": [
      "\n",
      "무료체험, http://stock.thinkpool.comhttp://www.thinkpool.com/club/home.jsp?cname=sanghanga,  , \n",
      "[문자카톡], http://stock.thinkpool.comhttp://stock.thinkpool.com/smsclub/ejqmftmxkr/itemTradingList.do,  , \n",
      "책발간, http://stock.thinkpool.comhttp://stock.thinkpool.com/bbs/itemanal/read/stock_bbs.do?sn=10387094&pageNo=1&pUd=0&iMax=00103871079999&code=068270,  , \n",
      ", http://stock.thinkpool.com/bbs/itemanal/read/stock_bbs.do?sn=10397382&pageNo=1&pUd=0&iMax=00103974639999&code=068270, 셀트 연말주가 및 계약공시 정리(힘내세요), 11:16, 6350, \n",
      ", http://stock.thinkpool.com/bbs/itemanal/read/stock_bbs.do?sn=10397010&pageNo=1&pUd=0&iMax=00103974639999&code=068270, 잊으신건 아니죠?^^, 08:28, 8513, \n",
      ", http://stock.thinkpool.com/bbs/itemanal/read/stock_bbs.do?sn=10396872&pageNo=1&pUd=0&iMax=00103974639999&code=068270, 방송사 제보시 생각해 볼 점., 07:05, 3097, \n",
      ", http://stock.thinkpool.com/bbs/itemanal/read/stock_bbs.do?sn=10396857&pageNo=1&pUd=0&iMax=00103974639999&code=068270, MBC PD수첩 제보내용 입니다, 12/18 22:02, 8443, \n",
      ", http://stock.thinkpool.com/bbs/itemanal/read/stock_bbs.do?sn=10396778&pageNo=1&pUd=0&iMax=00103974639999&code=068270, 합리적 의심, 12/18 18:36, 10245, \n",
      "10397463, http://stock.thinkpool.com/bbs/itemanal/read/stock_bbs.do?sn=10397463&pageNo=1&pUd=0&iMax=00103974639999&code=068270, 100주 신규 매수(동생도 셀 독개미 가족과 함께합니다~^^(냉무)), 13:24, 24, \n",
      "10397462, http://stock.thinkpool.com/bbs/itemanal/read/stock_bbs.do?sn=10397462&pageNo=1&pUd=0&iMax=00103974639999&code=068270, 불합리한 대주주 기준, 13:24, 115, \n",
      "10397461, http://stock.thinkpool.com/bbs/itemanal/read/stock_bbs.do?sn=10397461&pageNo=1&pUd=0&iMax=00103974639999&code=068270, 25주 추매 완료(정기세일 곧 마감), 13:23, 44, \n",
      "10397460, http://stock.thinkpool.com/bbs/itemanal/read/stock_bbs.do?sn=10397460&pageNo=1&pUd=0&iMax=00103974639999&code=068270, 13주 추매, 13:16, 75, \n",
      "10397459, http://stock.thinkpool.com/bbs/itemanal/read/stock_bbs.do?sn=10397459&pageNo=1&pUd=0&iMax=00103974639999&code=068270, LG디스플레이 330주 매도 후 추매(냉무), 13:16, 123, \n",
      "10397452, http://stock.thinkpool.com/bbs/itemanal/read/stock_bbs.do?sn=10397452&pageNo=1&pUd=0&iMax=00103974639999&code=068270, 카운터 펀치~~^^, 13:03, 1067, \n",
      "10397443, http://stock.thinkpool.com/bbs/itemanal/read/stock_bbs.do?sn=10397443&pageNo=1&pUd=0&iMax=00103974639999&code=068270, 더이상 추매안할라고 했더니~, 13:01, 519, \n",
      "10397442, http://stock.thinkpool.com/bbs/itemanal/read/stock_bbs.do?sn=10397442&pageNo=1&pUd=0&iMax=00103974639999&code=068270, 동부DB와 유진 창구이용 가짜 대주주인 공매개인차명 매도 속지마시길!!!, 13:00, 1206, \n",
      "10397440, http://stock.thinkpool.com/bbs/itemanal/read/stock_bbs.do?sn=10397440&pageNo=1&pUd=0&iMax=00103974639999&code=068270, 280주 추매 .., 12:53, 480, \n",
      "10397439, http://stock.thinkpool.com/bbs/itemanal/read/stock_bbs.do?sn=10397439&pageNo=1&pUd=0&iMax=00103974639999&code=068270, 138 장농속으로,,,, 12:51, 278, \n",
      "10397437, http://stock.thinkpool.com/bbs/itemanal/read/stock_bbs.do?sn=10397437&pageNo=1&pUd=0&iMax=00103974639999&code=068270, 빅세일 추매100, 12:44, 857, \n",
      "10397430, http://stock.thinkpool.comjavascript:void(0), 처음으로 글을 오립니다, 12:18, 1147, \n",
      "10397428, http://stock.thinkpool.com/bbs/itemanal/read/stock_bbs.do?sn=10397428&pageNo=1&pUd=0&iMax=00103974639999&code=068270, 2017-12-19 12시 매매동향, 12:11, 2877, \n",
      "10397415, http://stock.thinkpool.com/bbs/itemanal/read/stock_bbs.do?sn=10397415&pageNo=1&pUd=0&iMax=00103974639999&code=068270, 삼바 사장 열받는 발언, 11:57, 4508, \n",
      "10397436, http://stock.thinkpool.com/bbs/itemanal/read/stock_bbs.do?sn=10397436&pageNo=1&pUd=0&iMax=00103974639999&code=068270, 삼바 사장 열받는 발언, 12:43, 931, \n",
      "10397432, http://stock.thinkpool.com/bbs/itemanal/read/stock_bbs.do?sn=10397432&pageNo=1&pUd=0&iMax=00103974639999&code=068270, 삼바 사장 열받는 발언, 12:22, 1293, \n",
      "10397414, http://stock.thinkpool.com/bbs/itemanal/read/stock_bbs.do?sn=10397414&pageNo=1&pUd=0&iMax=00103974639999&code=068270, 20주 추매 하였습니다. , 11:53, 375, \n",
      "10397405, http://stock.thinkpool.com/bbs/itemanal/read/stock_bbs.do?sn=10397405&pageNo=1&pUd=0&iMax=00103974639999&code=068270, 시장조성자? 이건진짜 아닌듯, 11:34, 2842, \n",
      "10397400, http://stock.thinkpool.com/bbs/itemanal/read/stock_bbs.do?sn=10397400&pageNo=1&pUd=0&iMax=00103974639999&code=068270, 타임폴리오운용 '바이오 숏' 충격에 흔들…ARS운용 주춤(상보), 11:33, 3873, \n",
      "10397382, http://stock.thinkpool.com/bbs/itemanal/read/stock_bbs.do?sn=10397382&pageNo=1&pUd=0&iMax=00103974639999&code=068270, 셀트 연말주가 및 계약공시 정리(힘내세요), 11:16, 6350, \n",
      "10397381, http://stock.thinkpool.com/bbs/itemanal/read/stock_bbs.do?sn=10397381&pageNo=1&pUd=0&iMax=00103974639999&code=068270, [요르단 소식] 히크마 제약 - 셀트리온과 트룩시마 독점 유통 판매 계약 체결, 11:12, 1821, \n",
      "10397380, http://stock.thinkpool.com/bbs/itemanal/read/stock_bbs.do?sn=10397380&pageNo=1&pUd=0&iMax=00103974639999&code=068270, 추매후 상한가 매도주문, 11:12, 555, \n",
      "10397353, http://stock.thinkpool.com/bbs/itemanal/read/stock_bbs.do?sn=10397353&pageNo=1&pUd=0&iMax=00103974639999&code=068270, 조금더 추매, 10:45, 1088, \n",
      "10397340, http://stock.thinkpool.com/bbs/itemanal/read/stock_bbs.do?sn=10397340&pageNo=1&pUd=0&iMax=00103974639999&code=068270, 작년 12월 20일  배당 ? 공시, 10:41, 5108, \n",
      "10397332, http://stock.thinkpool.com/bbs/itemanal/read/stock_bbs.do?sn=10397332&pageNo=1&pUd=0&iMax=00103974639999&code=068270, 긁어긁어 추매추매, 10:31, 964, \n",
      "10397325, http://stock.thinkpool.comjavascript:void(0), 매동보니 대주주분들 셀트팔고 코인사러 가나보네요, 10:29, 777, \n",
      "10397216, http://stock.thinkpool.com/bbs/itemanal/read/stock_bbs.do?sn=10397216&pageNo=1&pUd=0&iMax=00103974639999&code=068270, 2017 공매도... 그들의 시선, 09:32, 3959, \n",
      "10397040, http://stock.thinkpool.com/bbs/itemanal/read/stock_bbs.do?sn=10397040&pageNo=1&pUd=0&iMax=00103974639999&code=068270, R&D; 투자액 1위 '셀트리온'···한미 녹십자 대웅 종근당 順, 08:25, 3689, \n",
      "10397010, http://stock.thinkpool.com/bbs/itemanal/read/stock_bbs.do?sn=10397010&pageNo=1&pUd=0&iMax=00103974639999&code=068270, 잊으신건 아니죠?^^, 08:28, 8513, \n",
      "10396972, http://stock.thinkpool.com/bbs/itemanal/read/stock_bbs.do?sn=10396972&pageNo=1&pUd=0&iMax=00103974639999&code=068270, 독감관련문의, 07:56, 2644, \n"
     ]
    }
   ],
   "source": [
    "with open('output.csv', 'a') as csv_file:\n",
    "    writer = csv.writer(csv_file)\n",
    "\n",
    "    for r in rows:\n",
    "        \n",
    "        output = ''\n",
    "        \n",
    "        # first column is always id\n",
    "        columns = r.find_all('td')\n",
    "        if columns is not None and len(columns) > 0:\n",
    "            output = output + columns[0].get_text() + ', '\n",
    "\n",
    "        # hyperlink\n",
    "        link = r.find('a', href=True)\n",
    "        if link is not None:\n",
    "            output = output + \"http://stock.thinkpool.com\" + link['href'] + ', '\n",
    "\n",
    "        # title columns have class=\"l\"\n",
    "        title = \"\"\n",
    "        title_column = r.find('td', {'class':'l'})\n",
    "        if title_column is not None:\n",
    "            if title_column.span is not None:\n",
    "                output = output + title_column.span.get_text() + ', '\n",
    "\n",
    "        # time columns have class=\"c\"\n",
    "        time = \"\"\n",
    "        time_column = r.find('div', {'class':'adel_ico'})\n",
    "        if time_column is not None:\n",
    "            output = output + time_column.get_text().strip() + ', '\n",
    "\n",
    "        # views column have class=\"pl10\"\n",
    "        views = \"\"\n",
    "        views_column = r.find('td', {'class', 'pl10'})\n",
    "        if views_column is not None:\n",
    "            output = output + views_column.get_text() + ', '\n",
    "            \n",
    "        print output"
   ]
  },
  {
   "cell_type": "markdown",
   "metadata": {
    "collapsed": false
   },
   "source": [
    "# Part 2"
   ]
  },
  {
   "cell_type": "code",
   "execution_count": 8,
   "metadata": {
    "collapsed": false
   },
   "outputs": [],
   "source": [
    "http = urllib3.PoolManager()\n",
    "r = http.request('GET', 'http://www.customs.go.kr/kcshome/trade/TradeCommodityList.do')"
   ]
  },
  {
   "cell_type": "code",
   "execution_count": 22,
   "metadata": {
    "collapsed": false
   },
   "outputs": [],
   "source": [
    "url = 'http://www.customs.go.kr/kcshome/trade/TradeCommodityList.do'\n",
    "values = {\n",
    "\"year\": \"2017\",\n",
    "\"month\": \"10\",\n",
    "\"hsUnit\": \"10\",\n",
    "\"hsCd\": \"30\",\n",
    "\"hsCd4\": \"02\",\n",
    "\"hsCd6\": \"14\",\n",
    "\"hsCd10\": \"9000\",\n",
    "\"eximDitc\": \"2\"\n",
    "}\n",
    "\n",
    "data = urllib.urlencode(values)\n",
    "req = urllib2.Request(url, data)"
   ]
  },
  {
   "cell_type": "code",
   "execution_count": 27,
   "metadata": {
    "collapsed": true
   },
   "outputs": [],
   "source": [
    "response = urllib2.urlopen(req)"
   ]
  },
  {
   "cell_type": "code",
   "execution_count": 28,
   "metadata": {
    "collapsed": true
   },
   "outputs": [],
   "source": [
    "soup = BeautifulSoup(response.read(), 'html.parser')"
   ]
  },
  {
   "cell_type": "code",
   "execution_count": 29,
   "metadata": {
    "collapsed": false
   },
   "outputs": [],
   "source": [
    "table = soup.find('table', attrs={'summary':'Import by commodity Table'})"
   ]
  },
  {
   "cell_type": "code",
   "execution_count": 30,
   "metadata": {
    "collapsed": false
   },
   "outputs": [],
   "source": [
    "rows = table.find_all('tr')"
   ]
  },
  {
   "cell_type": "code",
   "execution_count": 39,
   "metadata": {
    "collapsed": false
   },
   "outputs": [
    {
     "name": "stdout",
     "output_type": "stream",
     "text": [
      "\n",
      "\n",
      "Argentina, 0, 0, 0, 0, 0, 0, -, \n",
      "Armenia, 0, 0, 0, 0, 0, 0, -, \n",
      "Australia, 0, 0, 0, 0, 0, 0, -, \n",
      "Belgium, 10, 0, 0, 0, 0, 0, -, \n",
      "Costa Rica, 0, 0, 0, 0, 0, 0, -, \n",
      "Croatia, 0, 0, 0, 0, 0, 0, -, \n",
      "Denmark, 0, 0, 0, 0, 0, 0, -, \n",
      "Ecuador, 0, 0, 0, 0, 0, 0, -, \n",
      "Egypt, 0, 0, 0, 0, 0, 0, -, \n",
      "France, 0, 0, 0, 0, 0, 0, -, \n",
      "Germany, 40,780, 5,814, 0, 0, 0, 0, -, \n",
      "Hungary, 1, 0, 0, 0, 0, 0, -, \n",
      "Ireland, 394, 43, 0, 0, 0, 0, -, \n",
      "Israel, 0, 0, 0, 0, 0, 0, -, \n",
      "Italy, 0, 0, 0, 0, 0, 0, -, \n",
      "Japan, 0, 0, 0, 0, 0, 0, -, \n",
      "Jordan, 0, 0, 0, 0, 0, 0, -, \n",
      "Netherlands, 26,302, 9,026, 0, 0, 0, 0, -, \n",
      "Puerto Rico, 0, 0, 0, 0, 0, 0, -, \n",
      "Russian Federation, 0, 0, 0, 0, 0, 0, -, \n",
      "Singapore, 0, 2, 0, 0, 0, 0, -, \n",
      "Switzerland, 0, 0, 0, 0, 0, 0, -, \n",
      "Turkey, 19,200, 429, 0, 0, 0, 0, -, \n",
      "United Arab Emirates, 0, 0, 0, 0, 0, 0, -, \n",
      "United Kingdom, 0, 0, 0, 0, 0, 0, -, \n",
      "United States, 31,538, 1,922, 0, 0, 0, 0, -, \n"
     ]
    }
   ],
   "source": [
    "for row in rows:\n",
    "    output = ''\n",
    "    for cell in row.find_all('td'):\n",
    "        output = output + cell.get_text().strip() + ', '\n",
    "    print output"
   ]
  },
  {
   "cell_type": "code",
   "execution_count": null,
   "metadata": {
    "collapsed": true
   },
   "outputs": [],
   "source": []
  }
 ],
 "metadata": {
  "kernelspec": {
   "display_name": "Python 2",
   "language": "python",
   "name": "python2"
  },
  "language_info": {
   "codemirror_mode": {
    "name": "ipython",
    "version": 2
   },
   "file_extension": ".py",
   "mimetype": "text/x-python",
   "name": "python",
   "nbconvert_exporter": "python",
   "pygments_lexer": "ipython2",
   "version": "2.7.10"
  }
 },
 "nbformat": 4,
 "nbformat_minor": 0
}
