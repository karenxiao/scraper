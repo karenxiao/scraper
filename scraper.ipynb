{
 "cells": [
  {
   "cell_type": "markdown",
   "metadata": {},
   "source": [
    "# Scott's Awesome Korean Web Scraper"
   ]
  },
  {
   "cell_type": "markdown",
   "metadata": {},
   "source": [
    "Tutorial link: https://medium.freecodecamp.org/how-to-scrape-websites-with-python-and-beautifulsoup-5946935d93fe"
   ]
  },
  {
   "cell_type": "code",
   "execution_count": 101,
   "metadata": {
    "collapsed": false
   },
   "outputs": [],
   "source": [
    "# Import libraries\n",
    "import urllib2\n",
    "import csv\n",
    "from bs4 import BeautifulSoup"
   ]
  },
  {
   "cell_type": "code",
   "execution_count": 29,
   "metadata": {
    "collapsed": false
   },
   "outputs": [],
   "source": [
    "url = 'http://stock.thinkpool.com/bbs/itemanal/list/stock_bbs.do?code=068270&Gcode=001_008_002'\n",
    "page = urllib2.urlopen(url).read()"
   ]
  },
  {
   "cell_type": "code",
   "execution_count": 170,
   "metadata": {
    "collapsed": false
   },
   "outputs": [],
   "source": [
    "soup = BeautifulSoup(page, 'html.parser')"
   ]
  },
  {
   "cell_type": "code",
   "execution_count": 171,
   "metadata": {
    "collapsed": false
   },
   "outputs": [],
   "source": [
    "table = soup.find('table', attrs={'summary': '게시판 목록을 보여줌'})"
   ]
  },
  {
   "cell_type": "code",
   "execution_count": 172,
   "metadata": {
    "collapsed": false
   },
   "outputs": [],
   "source": [
    "rows = table.find_all('tr')"
   ]
  },
  {
   "cell_type": "code",
   "execution_count": 176,
   "metadata": {
    "collapsed": false
   },
   "outputs": [
    {
     "name": "stdout",
     "output_type": "stream",
     "text": [
      "이벤트\n",
      "http://www.thinkpool.com/bbs/pdsRead.jsp?name=cmp_001&mcd=M0E&ctg=&slt=&key=&pos=&page=1&number=1942&i_max=00000019429999\n",
      " \n",
      "종목추천\n",
      "http://www.thinkpool.com/bbs/pdsRead.jsp?name=cmp_001&mcd=M0E&ctg=&slt=&key=&pos=&page=1&number=1944&i_max=00000019449999\n",
      " \n",
      "주주운동\n",
      "http://stock.thinkpool.com/bbs/itemanal/read/stock_bbs.do?sn=10373225&pageNo=1&pUd=0&iMax=00103735639999&code=068270\n",
      " \n",
      "\n",
      "/bbs/itemanal/read/stock_bbs.do?sn=10374932&pageNo=1&pUd=0&iMax=00103750129999&code=068270\n",
      "독일 램시마 점유율 3분기까지 51.5%\n",
      "10:43\n",
      "3850\n",
      "\n",
      "/bbs/itemanal/read/stock_bbs.do?sn=10374661&pageNo=1&pUd=0&iMax=00103750129999&code=068270\n",
      "의미없는 목표가. 의미있는 목표.\n",
      "08:31\n",
      "6085\n",
      "\n",
      "/bbs/itemanal/read/stock_bbs.do?sn=10374500&pageNo=1&pUd=0&iMax=00103750129999&code=068270\n",
      "현시점에서 기분좋은 사실4개\n",
      "07:23\n",
      "8277\n",
      "\n",
      "/bbs/itemanal/read/stock_bbs.do?sn=10374496&pageNo=1&pUd=0&iMax=00103750129999&code=068270\n",
      "신고가 셀트리온을 던지려는 이들에게!\n",
      "07:17\n",
      "4739\n",
      "\n",
      "/bbs/itemanal/read/stock_bbs.do?sn=10374497&pageNo=1&pUd=0&iMax=00103750129999&code=068270\n",
      "존슨앤존슨, 불공정거래로 또 제소당했습니다\n",
      "06:33\n",
      "6838\n",
      "10375012\n",
      "/bbs/itemanal/read/stock_bbs.do?sn=10375012&pageNo=1&pUd=0&iMax=00103750129999&code=068270\n",
      "오늘도 잼있는 하루ㅎㅎ\n",
      "12:25\n",
      "104\n",
      "10375011\n",
      "/bbs/itemanal/read/stock_bbs.do?sn=10375011&pageNo=1&pUd=0&iMax=00103750129999&code=068270\n",
      "대나무같은 셀트\n",
      "12:19\n",
      "229\n",
      "10375008\n",
      "/bbs/itemanal/read/stock_bbs.do?sn=10375008&pageNo=1&pUd=0&iMax=00103750129999&code=068270\n",
      "외인들 정말 배고 고픈가보네요 ㅎㅎㅎ\n",
      "12:12\n",
      "887\n",
      "10375007\n",
      "/bbs/itemanal/read/stock_bbs.do?sn=10375007&pageNo=1&pUd=0&iMax=00103750129999&code=068270\n",
      "멸치가 올려주네요\n",
      "12:11\n",
      "424\n",
      "10375006\n",
      "/bbs/itemanal/read/stock_bbs.do?sn=10375006&pageNo=1&pUd=0&iMax=00103750129999&code=068270\n",
      "치악산자락님 생신 축하드려요,\n",
      "12:18\n",
      "770\n",
      "10375004\n",
      "/bbs/itemanal/read/stock_bbs.do?sn=10375004&pageNo=1&pUd=0&iMax=00103750129999&code=068270\n",
      "드디어 22만원대이군요..^^\n",
      "12:07\n",
      "523\n",
      "10375003\n",
      "/bbs/itemanal/read/stock_bbs.do?sn=10375003&pageNo=1&pUd=0&iMax=00103750129999&code=068270\n",
      "늦은 숙제완료\n",
      "12:05\n",
      "153\n",
      "10375002\n",
      "/bbs/itemanal/read/stock_bbs.do?sn=10375002&pageNo=1&pUd=0&iMax=00103750129999&code=068270\n",
      "2017-11-17 12시 매매동향\n",
      "12:05\n",
      "944\n",
      "10375001\n",
      "/bbs/itemanal/read/stock_bbs.do?sn=10375001&pageNo=1&pUd=0&iMax=00103750129999&code=068270\n",
      "알흠다운 조정...\n",
      "11:58\n",
      "536\n",
      "10374994\n",
      "/bbs/itemanal/read/stock_bbs.do?sn=10374994&pageNo=1&pUd=0&iMax=00103750129999&code=068270\n",
      "이관 완료(유진 --> DB)\n",
      "11:39\n",
      "355\n",
      "10374993\n",
      "/bbs/itemanal/read/stock_bbs.do?sn=10374993&pageNo=1&pUd=0&iMax=00103750129999&code=068270\n",
      "권정호 애널의 혜안과 배짱.\n",
      "11:36\n",
      "2111\n",
      "10374982\n",
      "/bbs/itemanal/read/stock_bbs.do?sn=10374982&pageNo=1&pUd=0&iMax=00103750129999&code=068270\n",
      "화성 => 대구지점이관\n",
      "11:24\n",
      "422\n",
      "10374980\n",
      "/bbs/itemanal/read/stock_bbs.do?sn=10374980&pageNo=1&pUd=0&iMax=00103750129999&code=068270\n",
      "서정진 회장, 지분가치 9조…이재용·서경배 넘었다\n",
      "11:22\n",
      "1635\n",
      "10374979\n",
      "/bbs/itemanal/read/stock_bbs.do?sn=10374979&pageNo=1&pUd=0&iMax=00103750129999&code=068270\n",
      "셀트리온법인설립 로고타입 시안 \n",
      "11:21\n",
      "1871\n",
      "10374978\n",
      "/bbs/itemanal/read/stock_bbs.do?sn=10374978&pageNo=1&pUd=0&iMax=00103750129999&code=068270\n",
      "안녕하세요 인천주주 카톡방에 한량(송도) 입니다... ㅠㅠㅠ\n",
      "11:21\n",
      "779\n",
      "10374974\n",
      "/bbs/itemanal/read/stock_bbs.do?sn=10374974&pageNo=1&pUd=0&iMax=00103750129999&code=068270\n",
      "한국경제 티비~\n",
      "11:17\n",
      "1782\n",
      "10374957\n",
      "/bbs/itemanal/read/stock_bbs.do?sn=10374957&pageNo=1&pUd=0&iMax=00103750129999&code=068270\n",
      "이관 완료 ^^\n",
      "10:56\n",
      "630\n",
      "10374932\n",
      "/bbs/itemanal/read/stock_bbs.do?sn=10374932&pageNo=1&pUd=0&iMax=00103750129999&code=068270\n",
      "독일 램시마 점유율 3분기까지 51.5%\n",
      "10:43\n",
      "3850\n",
      "10374920\n",
      "/bbs/itemanal/read/stock_bbs.do?sn=10374920&pageNo=1&pUd=0&iMax=00103750129999&code=068270\n",
      "언플에  속일수 없는 증거들\n",
      "10:40\n",
      "2060\n",
      "10374916\n",
      "/bbs/itemanal/read/stock_bbs.do?sn=10374916&pageNo=1&pUd=0&iMax=00103750129999&code=068270\n",
      "블랙프라이데이 세일인가요?\n",
      "10:28\n",
      "1307\n",
      "10374895\n",
      "/bbs/itemanal/read/stock_bbs.do?sn=10374895&pageNo=1&pUd=0&iMax=00103750129999&code=068270\n",
      "웃김.셀트리온을 가장 잘 표현한 게임.사리 곰탕 끓이는 게임.\n",
      "10:17\n",
      "1480\n",
      "10374894\n",
      "/bbs/itemanal/read/stock_bbs.do?sn=10374894&pageNo=1&pUd=0&iMax=00103750129999&code=068270\n",
      "홀딩스 셀트리온 의무 지분매집 언제?\n",
      "10:18\n",
      "2164\n",
      "10374884\n",
      "/bbs/itemanal/read/stock_bbs.do?sn=10374884&pageNo=1&pUd=0&iMax=00103750129999&code=068270\n",
      "셀날개달기님의 패러디글~~^^\n",
      "10:13\n",
      "1071\n",
      "10374883\n",
      "/bbs/itemanal/read/stock_bbs.do?sn=10374883&pageNo=1&pUd=0&iMax=00103750129999&code=068270\n",
      "오전에 존나게 내려 놔라!\n",
      "10:12\n",
      "1572\n",
      "10374882\n",
      "/bbs/itemanal/read/stock_bbs.do?sn=10374882&pageNo=1&pUd=0&iMax=00103750129999&code=068270\n",
      "류영진 식약처장 \"첨단바이오의약품 우선 허가로 관련산업 육성\"\n",
      "10:12\n",
      "1565\n",
      "10374879\n",
      "/bbs/itemanal/read/stock_bbs.do?sn=10374879&pageNo=1&pUd=0&iMax=00103750129999&code=068270\n",
      "어제밤 꿈에 (너무 진지한 분은 패스 요망)\n",
      "11:47\n",
      "1174\n",
      "10374851\n",
      "/bbs/itemanal/read/stock_bbs.do?sn=10374851&pageNo=1&pUd=0&iMax=00103750129999&code=068270\n",
      "숏커버링 매매 패턴2(FEAT.조정장.박스권이 올라왔어요^^)\n",
      "09:54\n",
      "3156\n",
      "10374830\n",
      "/bbs/itemanal/read/stock_bbs.do?sn=10374830&pageNo=1&pUd=0&iMax=00103750129999&code=068270\n",
      "공매도는 절대 숏커버링 안할겁니다.파산을 선택 하지.\n",
      "09:48\n",
      "2758\n",
      "10374798\n",
      "/bbs/itemanal/read/stock_bbs.do?sn=10374798&pageNo=1&pUd=0&iMax=00103750129999&code=068270\n",
      "공매도넘들 ㅋㅋㅋㅋ\n",
      "09:37\n",
      "2607\n",
      "10374761\n",
      "/bbs/itemanal/read/stock_bbs.do?sn=10374761&pageNo=1&pUd=0&iMax=00103750129999&code=068270\n",
      "굿이나 보고 떡이나 먹지요\n",
      "09:26\n",
      "1768\n"
     ]
    }
   ],
   "source": [
    "with open('output.csv', 'a') as csv_file:\n",
    "    writer = csv.writer(csv_file)\n",
    "\n",
    "    for r in rows:\n",
    "\n",
    "        # first column is always id\n",
    "        columns = r.find_all('td')\n",
    "        if columns is not None and len(columns) > 0:\n",
    "            print columns[0].get_text()\n",
    "\n",
    "        # hyperlink\n",
    "        link = r.find('a', href=True)\n",
    "        if link is not None:\n",
    "            print link['href']\n",
    "\n",
    "        # title columns have class=\"l\"\n",
    "        title = \"\"\n",
    "        title_column = r.find('td', {'class':'l'})\n",
    "        if title_column is not None:\n",
    "            if title_column.span is not None:\n",
    "                print title_column.span.get_text()\n",
    "\n",
    "        # time columns have class=\"c\"\n",
    "        time = \"\"\n",
    "        time_column = r.find('div', {'class':'adel_ico'})\n",
    "        if time_column is not None:\n",
    "            print time_column.get_text().strip()\n",
    "\n",
    "        # views column have class=\"pl10\"\n",
    "        views = \"\"\n",
    "        views_column = r.find('td', {'class', 'pl10'})\n",
    "        if views_column is not None:\n",
    "            print views_column.get_text()"
   ]
  },
  {
   "cell_type": "code",
   "execution_count": null,
   "metadata": {
    "collapsed": false
   },
   "outputs": [],
   "source": []
  },
  {
   "cell_type": "code",
   "execution_count": null,
   "metadata": {
    "collapsed": true
   },
   "outputs": [],
   "source": []
  }
 ],
 "metadata": {
  "kernelspec": {
   "display_name": "Python 2",
   "language": "python",
   "name": "python2"
  },
  "language_info": {
   "codemirror_mode": {
    "name": "ipython",
    "version": 2
   },
   "file_extension": ".py",
   "mimetype": "text/x-python",
   "name": "python",
   "nbconvert_exporter": "python",
   "pygments_lexer": "ipython2",
   "version": "2.7.10"
  }
 },
 "nbformat": 4,
 "nbformat_minor": 0
}
